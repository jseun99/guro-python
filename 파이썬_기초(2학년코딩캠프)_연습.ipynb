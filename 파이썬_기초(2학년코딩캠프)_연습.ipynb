{
  "nbformat": 4,
  "nbformat_minor": 0,
  "metadata": {
    "colab": {
      "name": "파이썬 기초(2학년코딩캠프)_연습.ipynb",
      "provenance": [],
      "collapsed_sections": [],
      "authorship_tag": "ABX9TyMDNMYp7bggZJ1FnxDf6RL7",
      "include_colab_link": true
    },
    "kernelspec": {
      "name": "python3",
      "display_name": "Python 3"
    }
  },
  "cells": [
    {
      "cell_type": "markdown",
      "metadata": {
        "id": "view-in-github",
        "colab_type": "text"
      },
      "source": [
        "<a href=\"https://colab.research.google.com/github/jseun99/guro-python/blob/main/%ED%8C%8C%EC%9D%B4%EC%8D%AC_%EA%B8%B0%EC%B4%88(2%ED%95%99%EB%85%84%EC%BD%94%EB%94%A9%EC%BA%A0%ED%94%84)_%EC%97%B0%EC%8A%B5.ipynb\" target=\"_parent\"><img src=\"https://colab.research.google.com/assets/colab-badge.svg\" alt=\"Open In Colab\"/></a>"
      ]
    },
    {
      "cell_type": "markdown",
      "metadata": {
        "id": "HtuSE4u24AEC"
      },
      "source": [
        "# **1. 출력 명령어**\n",
        "\n",
        "```\n",
        "print( 출력할 내용)\n",
        "```"
      ]
    },
    {
      "cell_type": "code",
      "metadata": {
        "id": "xq4Ipvx62UcF",
        "outputId": "02450ec2-886e-47ab-d6b6-a5afc8d0f326",
        "colab": {
          "base_uri": "https://localhost:8080/",
          "height": 36
        }
      },
      "source": [
        "# 숫자 출력 20201106\n",
        "\n",
        "print(20201106)"
      ],
      "execution_count": null,
      "outputs": [
        {
          "output_type": "stream",
          "text": [
            "20201106\n"
          ],
          "name": "stdout"
        }
      ]
    },
    {
      "cell_type": "code",
      "metadata": {
        "id": "9rTSsQ7a4e_q",
        "outputId": "fa79f036-01f9-4a05-8e57-f168b7734833",
        "colab": {
          "base_uri": "https://localhost:8080/",
          "height": 139
        }
      },
      "source": [
        "# 문자 출력 2020년 11월 6일\n",
        "\n",
        "print(2020년 11월 6일)"
      ],
      "execution_count": null,
      "outputs": [
        {
          "output_type": "error",
          "ename": "SyntaxError",
          "evalue": "ignored",
          "traceback": [
            "\u001b[0;36m  File \u001b[0;32m\"<ipython-input-2-0ca922b3526b>\"\u001b[0;36m, line \u001b[0;32m3\u001b[0m\n\u001b[0;31m    print(2020년 11월 6일)\u001b[0m\n\u001b[0m              ^\u001b[0m\n\u001b[0;31mSyntaxError\u001b[0m\u001b[0;31m:\u001b[0m invalid syntax\n"
          ]
        }
      ]
    },
    {
      "cell_type": "code",
      "metadata": {
        "id": "SkUHkgE84mzL",
        "outputId": "b0b48636-2dd4-4bfb-faae-a43e43a21fce",
        "colab": {
          "base_uri": "https://localhost:8080/",
          "height": 36
        }
      },
      "source": [
        "# 문자는 따옴표로 감싸주어야 함\n",
        "\n",
        "print('2020년 11월 6일')"
      ],
      "execution_count": null,
      "outputs": [
        {
          "output_type": "stream",
          "text": [
            "2020년 11월 6일\n"
          ],
          "name": "stdout"
        }
      ]
    },
    {
      "cell_type": "code",
      "metadata": {
        "id": "-wgG1WQS4tdn",
        "outputId": "c2384cfa-8b1d-4104-b67f-97dec9adb9b8",
        "colab": {
          "base_uri": "https://localhost:8080/",
          "height": 92
        }
      },
      "source": [
        "# 연산하여 출력하기\n",
        "\n",
        "print(12+34)\n",
        "print(12-34)\n",
        "print(12*34)\n",
        "print(12/34)"
      ],
      "execution_count": null,
      "outputs": [
        {
          "output_type": "stream",
          "text": [
            "46\n",
            "-22\n",
            "408\n",
            "0.35294117647058826\n"
          ],
          "name": "stdout"
        }
      ]
    },
    {
      "cell_type": "code",
      "metadata": {
        "id": "aI3bmml5BIow",
        "outputId": "155bcc3a-0b59-4a3a-cced-b58e06dc5bf7",
        "colab": {
          "base_uri": "https://localhost:8080/",
          "height": 36
        }
      },
      "source": [
        "# 제곱\n",
        "\n",
        "print(5**2)"
      ],
      "execution_count": null,
      "outputs": [
        {
          "output_type": "stream",
          "text": [
            "25\n"
          ],
          "name": "stdout"
        }
      ]
    },
    {
      "cell_type": "code",
      "metadata": {
        "id": "0BIlE5GnBN8S",
        "outputId": "440beafa-6cd2-4115-9624-a5cfc4ffdf79",
        "colab": {
          "base_uri": "https://localhost:8080/",
          "height": 55
        }
      },
      "source": [
        "# 몫\n",
        "print(5//2)\n",
        "# 나머지\n",
        "print(5%2)"
      ],
      "execution_count": null,
      "outputs": [
        {
          "output_type": "stream",
          "text": [
            "2\n",
            "1\n"
          ],
          "name": "stdout"
        }
      ]
    },
    {
      "cell_type": "code",
      "metadata": {
        "id": "R5ovOhi_BUeo",
        "outputId": "cb8ae47a-516b-4fb7-dee2-369b713ee039",
        "colab": {
          "base_uri": "https://localhost:8080/",
          "height": 36
        }
      },
      "source": [
        "# 문자 연결하여 출력하기\n",
        "\n",
        "print('Hello' + 'Python')"
      ],
      "execution_count": null,
      "outputs": [
        {
          "output_type": "stream",
          "text": [
            "HelloPython\n"
          ],
          "name": "stdout"
        }
      ]
    },
    {
      "cell_type": "code",
      "metadata": {
        "id": "9hLktvnBBekI",
        "outputId": "6d7982ae-aff4-4a46-f240-53346ad7a8f8",
        "colab": {
          "base_uri": "https://localhost:8080/",
          "height": 36
        }
      },
      "source": [
        "# 문자 연결하여 출력하기\n",
        "\n",
        "print('Hello','Python')"
      ],
      "execution_count": null,
      "outputs": [
        {
          "output_type": "stream",
          "text": [
            "Hello Python\n"
          ],
          "name": "stdout"
        }
      ]
    },
    {
      "cell_type": "code",
      "metadata": {
        "id": "vYe3raUDBi7q",
        "outputId": "d3d6c813-c361-418a-e8ae-d50ca46a42c6",
        "colab": {
          "base_uri": "https://localhost:8080/",
          "height": 36
        }
      },
      "source": [
        "# 문자 * 숫자\n",
        "\n",
        "print('Hello Hi '*4)"
      ],
      "execution_count": null,
      "outputs": [
        {
          "output_type": "stream",
          "text": [
            "Hello Hi Hello Hi Hello Hi Hello Hi \n"
          ],
          "name": "stdout"
        }
      ]
    },
    {
      "cell_type": "markdown",
      "metadata": {
        "id": "bmQLYUS1BriG"
      },
      "source": [
        "# **2. 입력 명령어**\n",
        "```\n",
        "input()\n",
        "\n",
        "input( ' 입력 안내문 ' )\n",
        "```"
      ]
    },
    {
      "cell_type": "code",
      "metadata": {
        "id": "FB-ZhOz7BmCo",
        "outputId": "f1703c17-09b9-4da1-cc97-d9b49fb2454e",
        "colab": {
          "base_uri": "https://localhost:8080/",
          "height": 55
        }
      },
      "source": [
        "input()"
      ],
      "execution_count": null,
      "outputs": [
        {
          "output_type": "stream",
          "text": [
            "123\n"
          ],
          "name": "stdout"
        },
        {
          "output_type": "execute_result",
          "data": {
            "application/vnd.google.colaboratory.intrinsic+json": {
              "type": "string"
            },
            "text/plain": [
              "'123'"
            ]
          },
          "metadata": {
            "tags": []
          },
          "execution_count": 11
        }
      ]
    },
    {
      "cell_type": "code",
      "metadata": {
        "id": "JH1OzbwcB5oY",
        "outputId": "d3ba7840-4558-4921-db48-b297b11c4b34",
        "colab": {
          "base_uri": "https://localhost:8080/",
          "height": 55
        }
      },
      "source": [
        "input('아이디 : ')"
      ],
      "execution_count": null,
      "outputs": [
        {
          "output_type": "stream",
          "text": [
            "아이디 : guroguro\n"
          ],
          "name": "stdout"
        },
        {
          "output_type": "execute_result",
          "data": {
            "application/vnd.google.colaboratory.intrinsic+json": {
              "type": "string"
            },
            "text/plain": [
              "'guroguro'"
            ]
          },
          "metadata": {
            "tags": []
          },
          "execution_count": 12
        }
      ]
    },
    {
      "cell_type": "markdown",
      "metadata": {
        "id": "c09dxENTCCxN"
      },
      "source": [
        "입력된 데이터 양 옆의 작은 따옴표\n",
        "\n",
        "-> input() 으로 읽어들인 데이터는 모두 **문자**로 인식"
      ]
    },
    {
      "cell_type": "markdown",
      "metadata": {
        "id": "Y0ByUX5iCL5M"
      },
      "source": [
        "# **3. 변수**\n",
        "```\n",
        "변수이름 = 저장할 데이터\n",
        "\n",
        "name = '정성은'\n",
        "\n",
        "school = '구로고'\n",
        "```\n",
        "<img src = 'https://github.com/jseun99/guro-python/blob/main/1.png?raw=true' width =500>"
      ]
    },
    {
      "cell_type": "code",
      "metadata": {
        "id": "ptbuevTHB-Tk",
        "outputId": "56589d29-8f6f-4417-dc1e-6268dff0b85e",
        "colab": {
          "base_uri": "https://localhost:8080/",
          "height": 36
        }
      },
      "source": [
        "a = '안녕'\n",
        "print(a)"
      ],
      "execution_count": null,
      "outputs": [
        {
          "output_type": "stream",
          "text": [
            "안녕\n"
          ],
          "name": "stdout"
        }
      ]
    },
    {
      "cell_type": "code",
      "metadata": {
        "id": "UBd4pKtiEWKo",
        "outputId": "508e78ab-4666-4698-8506-c727840c78a3",
        "colab": {
          "base_uri": "https://localhost:8080/",
          "height": 36
        }
      },
      "source": [
        "a = '안녕'\n",
        "print(a+'하세요')"
      ],
      "execution_count": null,
      "outputs": [
        {
          "output_type": "stream",
          "text": [
            "안녕하세요\n"
          ],
          "name": "stdout"
        }
      ]
    },
    {
      "cell_type": "code",
      "metadata": {
        "id": "Ht7GL78LEc_N",
        "outputId": "d31a0229-7c19-40a5-bbdf-54a893c73764",
        "colab": {
          "base_uri": "https://localhost:8080/",
          "height": 36
        }
      },
      "source": [
        "print(a*4)"
      ],
      "execution_count": null,
      "outputs": [
        {
          "output_type": "stream",
          "text": [
            "안녕안녕안녕안녕\n"
          ],
          "name": "stdout"
        }
      ]
    },
    {
      "cell_type": "code",
      "metadata": {
        "id": "RcaIsZYYEfJx"
      },
      "source": [
        "apple=1200\n",
        "banana=800\n",
        "kiwi=1700"
      ],
      "execution_count": null,
      "outputs": []
    },
    {
      "cell_type": "code",
      "metadata": {
        "id": "ontglE1NElnK",
        "outputId": "34aa04fb-d0d4-401d-dcc3-f09de0adfa54",
        "colab": {
          "base_uri": "https://localhost:8080/",
          "height": 36
        }
      },
      "source": [
        "# 사과 3개, 바나나 1개, 키위 2개 구매했을때 금액은?\n",
        "\n"
      ],
      "execution_count": null,
      "outputs": [
        {
          "output_type": "execute_result",
          "data": {
            "text/plain": [
              "7800"
            ]
          },
          "metadata": {
            "tags": []
          },
          "execution_count": 17
        }
      ]
    },
    {
      "cell_type": "markdown",
      "metadata": {
        "id": "WCRtsX6uExMi"
      },
      "source": [
        "<img src='https://github.com/jseun99/guro-python/blob/main/2.png?raw=true' width =300px>"
      ]
    },
    {
      "cell_type": "code",
      "metadata": {
        "id": "Xe1L--HmEthb",
        "outputId": "6aca93c1-aea3-43fe-b6ed-3b423bf757a4",
        "colab": {
          "base_uri": "https://localhost:8080/",
          "height": 36
        }
      },
      "source": [
        "# 위 가격은 변수에 저장이 되지 않았으므로 재상용이 안됨\n",
        "\n",
        "price = apple*3 + banana*1 + kiwi*2\n",
        "price"
      ],
      "execution_count": null,
      "outputs": [
        {
          "output_type": "execute_result",
          "data": {
            "text/plain": [
              "7800"
            ]
          },
          "metadata": {
            "tags": []
          },
          "execution_count": 18
        }
      ]
    },
    {
      "cell_type": "code",
      "metadata": {
        "id": "DMgVuN0hE443",
        "outputId": "c2be17d3-497c-40bd-e46e-3828284c51a1",
        "colab": {
          "base_uri": "https://localhost:8080/",
          "height": 36
        }
      },
      "source": [
        "# vip는 20% 할인\n",
        "\n",
        "vip = 0.8\n",
        "\n",
        "# vip가 동일한 가격을 구매했을 때 금액은?\n",
        "\n"
      ],
      "execution_count": null,
      "outputs": [
        {
          "output_type": "execute_result",
          "data": {
            "text/plain": [
              "6240.0"
            ]
          },
          "metadata": {
            "tags": []
          },
          "execution_count": 19
        }
      ]
    },
    {
      "cell_type": "code",
      "metadata": {
        "id": "2KhLao3TFDBk"
      },
      "source": [
        "# 이 결과도 변수에 저장되지 않았으므로 재사용이 안됨\n",
        "\n",
        "vip_price = price * vip"
      ],
      "execution_count": null,
      "outputs": []
    },
    {
      "cell_type": "code",
      "metadata": {
        "id": "ZhPEWhTlFLfR",
        "outputId": "1c66f3a1-fe34-470e-89db-d407309dc506",
        "colab": {
          "base_uri": "https://localhost:8080/",
          "height": 36
        }
      },
      "source": [
        "print('vip가 되시면',price,'원을',vip_price,'원에 구매 가능합니다.')"
      ],
      "execution_count": null,
      "outputs": [
        {
          "output_type": "stream",
          "text": [
            "vip가 되시면 7800 원을 6240.0 원에 구매 가능합니다.\n"
          ],
          "name": "stdout"
        }
      ]
    },
    {
      "cell_type": "markdown",
      "metadata": {
        "id": "B5sKq4u-FVVZ"
      },
      "source": [
        "# **4. 데이터타입**\n",
        "\n",
        "```\n",
        "정수 int\n",
        "실수 float\n",
        "문자 str\n",
        "\n",
        "```\n",
        "**데이터타입 변환 -> 변환하려는 타입으로 감싸주기**"
      ]
    },
    {
      "cell_type": "code",
      "metadata": {
        "id": "h77mO3MAFTEy",
        "outputId": "10dca06d-8191-458b-cbb8-103f7eb3a885",
        "colab": {
          "base_uri": "https://localhost:8080/",
          "height": 36
        }
      },
      "source": [
        "type(apple)"
      ],
      "execution_count": null,
      "outputs": [
        {
          "output_type": "execute_result",
          "data": {
            "text/plain": [
              "int"
            ]
          },
          "metadata": {
            "tags": []
          },
          "execution_count": 22
        }
      ]
    },
    {
      "cell_type": "code",
      "metadata": {
        "id": "aw3ZlZXLFxS_",
        "outputId": "b93d46c2-7b76-4ed9-96f6-b43695305e4f",
        "colab": {
          "base_uri": "https://localhost:8080/",
          "height": 36
        }
      },
      "source": [
        "type(banana)"
      ],
      "execution_count": null,
      "outputs": [
        {
          "output_type": "execute_result",
          "data": {
            "text/plain": [
              "int"
            ]
          },
          "metadata": {
            "tags": []
          },
          "execution_count": 23
        }
      ]
    },
    {
      "cell_type": "code",
      "metadata": {
        "id": "lh4rAnspFy5M",
        "outputId": "2bc6241a-ac72-43d5-e87d-f38cf4d8d6ba",
        "colab": {
          "base_uri": "https://localhost:8080/",
          "height": 36
        }
      },
      "source": [
        "type(vip)"
      ],
      "execution_count": null,
      "outputs": [
        {
          "output_type": "execute_result",
          "data": {
            "text/plain": [
              "float"
            ]
          },
          "metadata": {
            "tags": []
          },
          "execution_count": 24
        }
      ]
    },
    {
      "cell_type": "code",
      "metadata": {
        "id": "TZzz7gA8F0RM",
        "outputId": "48b73201-aaef-4f57-fb20-9bad39d99c36",
        "colab": {
          "base_uri": "https://localhost:8080/",
          "height": 36
        }
      },
      "source": [
        "type(a)"
      ],
      "execution_count": null,
      "outputs": [
        {
          "output_type": "execute_result",
          "data": {
            "text/plain": [
              "str"
            ]
          },
          "metadata": {
            "tags": []
          },
          "execution_count": 25
        }
      ]
    },
    {
      "cell_type": "code",
      "metadata": {
        "id": "ocEBZbDIF1uO",
        "outputId": "74be1ea5-a796-4d42-c9ca-1197fe6cc991",
        "colab": {
          "base_uri": "https://localhost:8080/",
          "height": 36
        }
      },
      "source": [
        "# 정수를 실수로\n",
        "float(apple)"
      ],
      "execution_count": null,
      "outputs": [
        {
          "output_type": "execute_result",
          "data": {
            "text/plain": [
              "1200.0"
            ]
          },
          "metadata": {
            "tags": []
          },
          "execution_count": 26
        }
      ]
    },
    {
      "cell_type": "code",
      "metadata": {
        "id": "a2wq84fKF4ya",
        "outputId": "9c6e7abf-5b5e-4c03-f265-3a9dab98e4e4",
        "colab": {
          "base_uri": "https://localhost:8080/",
          "height": 36
        }
      },
      "source": [
        "#실수를 정수로\n",
        "int(vip_price)"
      ],
      "execution_count": null,
      "outputs": [
        {
          "output_type": "execute_result",
          "data": {
            "text/plain": [
              "6240"
            ]
          },
          "metadata": {
            "tags": []
          },
          "execution_count": 28
        }
      ]
    },
    {
      "cell_type": "markdown",
      "metadata": {
        "id": "DQuXEwn5GKVd"
      },
      "source": [
        "<img src = 'https://github.com/jseun99/guro-python/blob/main/3.png?raw=true' width = 300>"
      ]
    },
    {
      "cell_type": "code",
      "metadata": {
        "id": "F11Hh4mBF9Ab",
        "outputId": "e5ce7d23-4850-4172-fc7d-e8a81f032a86",
        "colab": {
          "base_uri": "https://localhost:8080/",
          "height": 55
        }
      },
      "source": [
        "# 문자를 정수로\n",
        "score = input('점수 입력 : ')\n"
      ],
      "execution_count": null,
      "outputs": [
        {
          "output_type": "stream",
          "text": [
            "점수 입력 : 77\n"
          ],
          "name": "stdout"
        },
        {
          "output_type": "execute_result",
          "data": {
            "text/plain": [
              "77"
            ]
          },
          "metadata": {
            "tags": []
          },
          "execution_count": 29
        }
      ]
    },
    {
      "cell_type": "code",
      "metadata": {
        "id": "-2yx0E4zGQsj",
        "outputId": "757fc5ca-147b-4582-a241-a4e9f30db0c9",
        "colab": {
          "base_uri": "https://localhost:8080/",
          "height": 36
        }
      },
      "source": [
        "# 합쳐서 사용하기\n",
        "score = int(input('점수 입력 : '))"
      ],
      "execution_count": null,
      "outputs": [
        {
          "output_type": "stream",
          "text": [
            "점수 입력 : 68\n"
          ],
          "name": "stdout"
        }
      ]
    },
    {
      "cell_type": "code",
      "metadata": {
        "id": "VKklrfXXGWXy",
        "outputId": "e1c79277-45f5-4aa1-cb50-f08ff3688b25",
        "colab": {
          "base_uri": "https://localhost:8080/",
          "height": 36
        }
      },
      "source": [
        "score"
      ],
      "execution_count": null,
      "outputs": [
        {
          "output_type": "execute_result",
          "data": {
            "text/plain": [
              "68"
            ]
          },
          "metadata": {
            "tags": []
          },
          "execution_count": 31
        }
      ]
    },
    {
      "cell_type": "markdown",
      "metadata": {
        "id": "ZqA-MIVf2-1V"
      },
      "source": [
        "# **5. 리스트**\n",
        "\n",
        "<img src='https://github.com/jseun99/guro-python/blob/main/4.png?raw=true' width=500>\n",
        "\n",
        "```\n",
        "리스트 여러 데이터를 한 번에 묶어서 표현\n",
        "리스트이름 = [데이터1, 데이터2, ..., 데이터n]\n",
        "```"
      ]
    },
    {
      "cell_type": "code",
      "metadata": {
        "id": "cORX2KOa25V6"
      },
      "source": [
        "# 가계부 프로그램\n",
        "# 1월 지출부터 6월 지출까지 리스트로 만들기\n",
        "spend = [43, 12, 65,67, 23,12]"
      ],
      "execution_count": 2,
      "outputs": []
    },
    {
      "cell_type": "code",
      "metadata": {
        "id": "29sEa-_IGb5x",
        "outputId": "b609cb8e-36d8-40ea-cf62-1bb6df330878",
        "colab": {
          "base_uri": "https://localhost:8080/"
        }
      },
      "source": [
        "spend"
      ],
      "execution_count": 3,
      "outputs": [
        {
          "output_type": "execute_result",
          "data": {
            "text/plain": [
              "[43, 12, 65, 67, 23, 12]"
            ]
          },
          "metadata": {
            "tags": []
          },
          "execution_count": 3
        }
      ]
    },
    {
      "cell_type": "code",
      "metadata": {
        "id": "1vLoyGva3KLr",
        "outputId": "a066e4ba-34a0-480c-c3ac-90eec1e77011",
        "colab": {
          "base_uri": "https://localhost:8080/"
        }
      },
      "source": [
        "type(spend)"
      ],
      "execution_count": 4,
      "outputs": [
        {
          "output_type": "execute_result",
          "data": {
            "text/plain": [
              "list"
            ]
          },
          "metadata": {
            "tags": []
          },
          "execution_count": 4
        }
      ]
    },
    {
      "cell_type": "markdown",
      "metadata": {
        "id": "63fM6XXY28RA"
      },
      "source": [
        "# **리스트의 인덱스란**\n",
        "\n",
        "\n",
        "<img src ='https://github.com/jseun99/guro-python/blob/main/5.png?raw=true' width =500>"
      ]
    },
    {
      "cell_type": "code",
      "metadata": {
        "id": "RGM4bzHb3Wmg",
        "outputId": "c28e15f4-773a-49e9-d3af-d32a50aa8af8",
        "colab": {
          "base_uri": "https://localhost:8080/"
        }
      },
      "source": [
        "# 리스트 내의 원소에 접근하기\n",
        "# 인덱스를 0부터\n",
        "\n",
        "print(spend[0])\n",
        "\n",
        "\n",
        "\n"
      ],
      "execution_count": 5,
      "outputs": [
        {
          "output_type": "stream",
          "text": [
            "43\n",
            "12\n",
            "65\n",
            "67\n",
            "23\n",
            "12\n"
          ],
          "name": "stdout"
        }
      ]
    },
    {
      "cell_type": "markdown",
      "metadata": {
        "id": "FFpCHkYm3Yj6"
      },
      "source": [
        "# **리스트 마이너스 인덱스**\n",
        "\n",
        "<img src = 'https://github.com/jseun99/guro-python/blob/main/6.png?raw=true' width=500>"
      ]
    },
    {
      "cell_type": "code",
      "metadata": {
        "id": "iE3DAtPz3dn0"
      },
      "source": [
        "print(spend[-1])\n",
        "\n",
        "\n",
        "\n",
        "\n"
      ],
      "execution_count": null,
      "outputs": []
    },
    {
      "cell_type": "code",
      "metadata": {
        "id": "tCMj5XL03fGg"
      },
      "source": [
        "# 1월 지출은?\n",
        "\n",
        "print(spend[-1])"
      ],
      "execution_count": null,
      "outputs": []
    },
    {
      "cell_type": "code",
      "metadata": {
        "id": "pOZPt04b3gWy"
      },
      "source": [
        "# 3월 지출은?\n",
        "\n",
        "print(spend[2])"
      ],
      "execution_count": null,
      "outputs": []
    },
    {
      "cell_type": "code",
      "metadata": {
        "id": "ocyweapo3iYZ"
      },
      "source": [
        "# 알고보니 4월 지출이 10낮게 기록되었다.\n",
        "# 4월 지출에 10을 더하시오.\n",
        "\n",
        "\n",
        "\n",
        "spend"
      ],
      "execution_count": null,
      "outputs": []
    },
    {
      "cell_type": "code",
      "metadata": {
        "id": "zDMWvc1n3kBC"
      },
      "source": [
        "# 5월 지출을 2로 나누시오.\n",
        "\n",
        "spend[4] /= 2\n",
        "spend"
      ],
      "execution_count": null,
      "outputs": []
    },
    {
      "cell_type": "markdown",
      "metadata": {
        "id": "JruyBr7c3l6Q"
      },
      "source": [
        "**여러번 실행한다면 어떻게 될까?**"
      ]
    },
    {
      "cell_type": "markdown",
      "metadata": {
        "id": "Tzt9kyWp3mxP"
      },
      "source": [
        "# 리스트의 다양한 명령어\n",
        "\n",
        "```\n",
        "len(리스트이름)             # 리스트 길이 확인\n",
        "리스트이름.append(데이터)   # 리스트에 데이터 추가\n",
        "리스트이름.sort()           # 리스트 원소 정렬하기\n",
        "```"
      ]
    },
    {
      "cell_type": "code",
      "metadata": {
        "id": "sjV6V_Ll3p0r"
      },
      "source": [
        "len(spend)"
      ],
      "execution_count": null,
      "outputs": []
    },
    {
      "cell_type": "code",
      "metadata": {
        "id": "N3SLctpp3rIe"
      },
      "source": [
        "fruit = ['사과','바나나','키위']\n",
        "len(fruit)"
      ],
      "execution_count": null,
      "outputs": []
    },
    {
      "cell_type": "code",
      "metadata": {
        "id": "Jcr9WIVo3sH8"
      },
      "source": [
        "# 오렌지 추가\n",
        "fruit.append('오렌지')\n",
        "fruit"
      ],
      "execution_count": null,
      "outputs": []
    },
    {
      "cell_type": "code",
      "metadata": {
        "id": "DnFFknru3tht"
      },
      "source": [
        "# 참외 추가해보기\n",
        "\n",
        "\n",
        "fruit"
      ],
      "execution_count": null,
      "outputs": []
    },
    {
      "cell_type": "code",
      "metadata": {
        "id": "Y6iAI1xr3vph"
      },
      "source": [
        "# 정렬하기\n",
        "\n",
        "fruit.sort()\n",
        "fruit"
      ],
      "execution_count": null,
      "outputs": []
    },
    {
      "cell_type": "code",
      "metadata": {
        "id": "PMHSlsma3wwU"
      },
      "source": [
        "print('정렬 전 spend', spend)\n",
        "\n",
        "spend.sort()\n",
        "print('정렬 후 spend', spend)"
      ],
      "execution_count": null,
      "outputs": []
    },
    {
      "cell_type": "markdown",
      "metadata": {
        "id": "TUnJ6b0v3y_P"
      },
      "source": [
        "# **리스트 슬라이싱**\n",
        "\n",
        "<img src = 'https://github.com/jseun99/guro-python/blob/main/7.png?raw=true' width=500>\n",
        "\n",
        "\n",
        "```\n",
        "리스트[시작숫자 : 종료숫자]\n",
        "```\n",
        "종료숫자까지 잘라내는 것 XXX\n",
        "\n",
        "종료숫자에서 탈출하는 것 OOO\n",
        "\n",
        "```\n",
        "abc[2:5]       # abc[2]~abc[4]까지 슬라이싱하고 abc[5]가 되면 탈출함\n",
        "abc[4:9]       # abc[4]~abc[9]까지 슬라이싱하고 abc[9]가 되면 탈출함\n",
        "```"
      ]
    },
    {
      "cell_type": "code",
      "metadata": {
        "id": "WjrA0SZr35Ew"
      },
      "source": [
        "fruit"
      ],
      "execution_count": null,
      "outputs": []
    },
    {
      "cell_type": "code",
      "metadata": {
        "id": "-Kge-ntM36Lf"
      },
      "source": [
        "# 사과, 오렌지만 골라내기\n",
        "\n",
        "fruit[1:3]"
      ],
      "execution_count": null,
      "outputs": []
    },
    {
      "cell_type": "code",
      "metadata": {
        "id": "dhlytI0937FJ"
      },
      "source": [
        "# 처음부터 [n]까지 골라내기\n",
        "\n"
      ],
      "execution_count": null,
      "outputs": []
    },
    {
      "cell_type": "code",
      "metadata": {
        "id": "jUyIPsOU370C"
      },
      "source": [
        "# 뒤에서 두 개 데이터 슬라이싱\n",
        "\n"
      ],
      "execution_count": null,
      "outputs": []
    },
    {
      "cell_type": "markdown",
      "metadata": {
        "id": "u5slw1Oz39w0"
      },
      "source": [
        "# **문자열 슬라이싱**"
      ]
    },
    {
      "cell_type": "code",
      "metadata": {
        "id": "oQpRZTL53_Ng"
      },
      "source": [
        "name = 'Hello Google Python School'\n"
      ],
      "execution_count": null,
      "outputs": []
    },
    {
      "cell_type": "code",
      "metadata": {
        "id": "e3065zTH4AQ4"
      },
      "source": [
        "name[:5]"
      ],
      "execution_count": null,
      "outputs": []
    },
    {
      "cell_type": "code",
      "metadata": {
        "id": "kAPLBYo24BMb"
      },
      "source": [
        "name[-6:]"
      ],
      "execution_count": null,
      "outputs": []
    },
    {
      "cell_type": "code",
      "metadata": {
        "id": "zw0BmwAu4CZg"
      },
      "source": [
        "# Python 만 슬라이싱해보기\n",
        "\n",
        "name[13:19]"
      ],
      "execution_count": null,
      "outputs": []
    },
    {
      "cell_type": "markdown",
      "metadata": {
        "id": "otUjBVWB4D1h"
      },
      "source": [
        "**문자열 분리 명령어 .split()**\n",
        "\n",
        "```\n",
        "문자열.split('분리할 기준')\n",
        "```"
      ]
    },
    {
      "cell_type": "code",
      "metadata": {
        "id": "XU8vGtdz4Fic"
      },
      "source": [
        "name.split()"
      ],
      "execution_count": null,
      "outputs": []
    },
    {
      "cell_type": "code",
      "metadata": {
        "id": "cR917Mgv4FgM"
      },
      "source": [
        "name.split()[0]"
      ],
      "execution_count": null,
      "outputs": []
    },
    {
      "cell_type": "code",
      "metadata": {
        "id": "NCmxC_IU4Hl5"
      },
      "source": [
        "name.split()[1:3]"
      ],
      "execution_count": null,
      "outputs": []
    },
    {
      "cell_type": "code",
      "metadata": {
        "id": "fYZ9IoRY4I23"
      },
      "source": [
        "name.split()[-1]"
      ],
      "execution_count": null,
      "outputs": []
    },
    {
      "cell_type": "code",
      "metadata": {
        "id": "OpDKFTX14KgR"
      },
      "source": [
        "name.split('h')     # h 가 사라짐"
      ],
      "execution_count": null,
      "outputs": []
    },
    {
      "cell_type": "code",
      "metadata": {
        "id": "b_rXbgPL4LdG"
      },
      "source": [
        "name.split('o')      # o 가 사라짐"
      ],
      "execution_count": null,
      "outputs": []
    },
    {
      "cell_type": "code",
      "metadata": {
        "id": "HVwLHkc64MhE"
      },
      "source": [
        "date = '2020-11-06'"
      ],
      "execution_count": null,
      "outputs": []
    },
    {
      "cell_type": "code",
      "metadata": {
        "id": "e5R4zGIP4Nr4"
      },
      "source": [
        "# 년도만 골라내기\n",
        "\n",
        "date.split('-')[0]\n",
        "\n",
        "# 숫자로 아직 안바뀐 상태\n",
        "int(date.split('-')[0])"
      ],
      "execution_count": null,
      "outputs": []
    },
    {
      "cell_type": "code",
      "metadata": {
        "id": "eH-5DpJV4PyQ"
      },
      "source": [
        "# 월만 골라내기\n",
        "\n"
      ],
      "execution_count": null,
      "outputs": []
    },
    {
      "cell_type": "code",
      "metadata": {
        "id": "2AxZXe_m4Qnq"
      },
      "source": [
        "# 일만 골라내기\n",
        "\n"
      ],
      "execution_count": null,
      "outputs": []
    }
  ]
}